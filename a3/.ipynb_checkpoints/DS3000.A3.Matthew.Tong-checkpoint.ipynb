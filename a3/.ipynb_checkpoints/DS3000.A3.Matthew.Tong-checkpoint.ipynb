{
 "cells": [
  {
   "cell_type": "markdown",
   "metadata": {},
   "source": [
    "# DS 3000 - Assignment 03\n",
    "\n",
    "**Student Name**: Matthew Tong\n",
    "\n",
    "**Date**: 1/25/25\n",
    "\n",
    "\n",
    "### Submission Instructions\n",
    "Submit this `ipynb` file to canvas.\n",
    "\n",
    "The `ipynb` format stores outputs from the last time you ran the notebook.  (When you open a notebook it has the figures and outputs of the last time you ran it too).  To ensure that your submitted `ipynb` file represents your latest code, make sure to give a fresh run `Kernel > Restart & Run All` just before uploading the `ipynb` file to Canvas.\n",
    "\n",
    "### Academic Integrity\n",
    "\n",
    "**Writing your homework is an individual effort.**  You may discuss general python problems with other students but under no circumstances should you observe another student's code which was written for this assignment, from this year or past years.  Pop into office hours or DM us in MS Teams if you have a specific question about your work or if you would like another pair of eyes or talk through your code.\n",
    "\n",
    "Don't forget to cite websites which helped you solve a problem in a unique way.  You can do this in markdown near the code or with a simple one-line comment. You do not need to cite the official python documentation.\n",
    "\n",
    "**Documentation / style counts for credit**  Please refer to the Pep-8 style, to improve the readability and consistency of your Python code. For more information, read the following article [How to Write Beautiful Python Code With PEP 8](https://realpython.com/python-pep8/) or ask your TA's for tips.\n",
    "\n",
    "**NOTE:<span style='color:red'> Write python expressions to answer ALL questions below and ensure that you use the `print()` function to display the output.</span>** Each question should be answered in a new code cell. For example, your solution for question 1.1 should be in a different code cell from your solution for question 1.2."
   ]
  },
  {
   "cell_type": "markdown",
   "metadata": {},
   "source": [
    "## Data Science Problem (50 pts)\n",
    "### Instructions\n",
    "\n",
    "You are hired as a Data Scientist for the NYC Taxi and Limousine Commission (TLC) and this company routinely collects trip data from all licensed cabs in NY. Your team would like to use this data in the future to understand how New Yorkers use these taxis. Your first assignment is to **analyze the data of the Green Taxis, and determine if its a viable source.**\n",
    "\n",
    "Your supervisor has requested that you perform your analysis using data from December 2023 and would like for you to present your findings during the next team meeting. Use a Jupyter notebook to explain your data wrangling and analytical steps to your colleagues. \n",
    "\n",
    "**Data & Documentation**\n",
    "\n",
    "- **Data Source:** https://d37ci6vzurychx.cloudfront.net/trip-data/green_tripdata_2023-12.parquet\n",
    "- **Data Dictionary:** [Green Trips Data Dictionary](https://www1.nyc.gov/assets/tlc/downloads/pdf/data_dictionary_trip_records_green.pdf).\n",
    "\n",
    "The TLC trip record data and a description of the initiative can be found at the following link: https://www1.nyc.gov/site/tlc/about/tlc-trip-record-data.page\n",
    "\n",
    "**`Note:`** Ensure that you explain the results from each question.\n",
    "\n",
    "**In this assignment you will use the Pandas library. Pandas allows us to load data that's stored in a various formats, e.g. excel, csv, txt, parquet, etc. In this assignment, you will learn to read data in parquet format which is one of the preferred formats when working with `Big Data`. [Click here to learn more about parquet files](https://towardsdatascience.com/csv-files-for-storage-no-thanks-theres-a-better-option-72c78a414d1d)**\n",
    "\n",
    "I also provided starter code below to help you to read the data in parquet format. First, you'll need to install a new library called *fastparquet*."
   ]
  },
  {
   "cell_type": "code",
   "execution_count": 320,
   "metadata": {},
   "outputs": [
    {
     "name": "stdout",
     "output_type": "stream",
     "text": [
      "Requirement already satisfied: fastparquet in /opt/anaconda3/lib/python3.12/site-packages (2024.11.0)\n",
      "Requirement already satisfied: pandas>=1.5.0 in /opt/anaconda3/lib/python3.12/site-packages (from fastparquet) (2.2.2)\n",
      "Requirement already satisfied: numpy in /opt/anaconda3/lib/python3.12/site-packages (from fastparquet) (1.26.4)\n",
      "Requirement already satisfied: cramjam>=2.3 in /opt/anaconda3/lib/python3.12/site-packages (from fastparquet) (2.9.1)\n",
      "Requirement already satisfied: fsspec in /opt/anaconda3/lib/python3.12/site-packages (from fastparquet) (2024.6.1)\n",
      "Requirement already satisfied: packaging in /opt/anaconda3/lib/python3.12/site-packages (from fastparquet) (24.1)\n",
      "Requirement already satisfied: python-dateutil>=2.8.2 in /opt/anaconda3/lib/python3.12/site-packages (from pandas>=1.5.0->fastparquet) (2.9.0.post0)\n",
      "Requirement already satisfied: pytz>=2020.1 in /opt/anaconda3/lib/python3.12/site-packages (from pandas>=1.5.0->fastparquet) (2024.1)\n",
      "Requirement already satisfied: tzdata>=2022.7 in /opt/anaconda3/lib/python3.12/site-packages (from pandas>=1.5.0->fastparquet) (2023.3)\n",
      "Requirement already satisfied: six>=1.5 in /opt/anaconda3/lib/python3.12/site-packages (from python-dateutil>=2.8.2->pandas>=1.5.0->fastparquet) (1.16.0)\n"
     ]
    }
   ],
   "source": [
    "#run this cell to install the fast parquet library\n",
    "!pip install fastparquet"
   ]
  },
  {
   "cell_type": "markdown",
   "metadata": {},
   "source": [
    "## 1. Load the data\n",
    "Load the NYC Green Taxi Trip Records data directly from the URL into a data frame called tripdata_df. "
   ]
  },
  {
   "cell_type": "code",
   "execution_count": 323,
   "metadata": {},
   "outputs": [],
   "source": [
    "import pandas as pd\n",
    "\n",
    "#let's load the data into a dataframe\n",
    "\n",
    "tripdata_df = pd.read_parquet(path = 'https://d37ci6vzurychx.cloudfront.net/trip-data/green_tripdata_2023-12.parquet', #provide the URL to the data source\n",
    "                      engine = 'fastparquet')\n",
    "\n",
    "#Note: you'll notice two new things. 1) We are using a new function called `read_parquet()` which indicates that we are \n",
    "#      reading data in parquet format. 2) We used the fastparquet library as the engine. \n",
    "#      That's it! Pandas will load the data into a dataframe. You can now use the dataframe for EDA.\n",
    "\n",
    "# Reminder: How does Pandas read other file formats?\n",
    "# 1. Excel files: pd.read_excel()\n",
    "# 2. CSV Files: pd.read_csv()\n",
    "# ... and now you know how to read parquet files using pd.read_parquet()"
   ]
  },
  {
   "cell_type": "markdown",
   "metadata": {},
   "source": [
    "## 2. Inspect the Data (5 pts) \n",
    "Inspect the data and perform the following: \n",
    "1. display the dimensions, and indicate if the variables have suitable types.\n",
    "2. convert all variables to suitable types\n",
    "\n",
    "*Tip*:  Think about whether the data type is accurate for the field. Refer to the data dictionary and review sample values in the dataframe before converting types. **Demonstrate ALL steps.**"
   ]
  },
  {
   "cell_type": "code",
   "execution_count": 326,
   "metadata": {},
   "outputs": [
    {
     "name": "stdout",
     "output_type": "stream",
     "text": [
      "There are 64215 rows and 20 columns.\n",
      "<class 'pandas.core.frame.DataFrame'>\n",
      "RangeIndex: 64215 entries, 0 to 64214\n",
      "Data columns (total 20 columns):\n",
      " #   Column                 Non-Null Count  Dtype         \n",
      "---  ------                 --------------  -----         \n",
      " 0   VendorID               64215 non-null  float64       \n",
      " 1   lpep_pickup_datetime   64215 non-null  datetime64[us]\n",
      " 2   lpep_dropoff_datetime  64215 non-null  datetime64[us]\n",
      " 3   store_and_fwd_flag     59303 non-null  object        \n",
      " 4   RatecodeID             59303 non-null  float64       \n",
      " 5   PULocationID           64215 non-null  float64       \n",
      " 6   DOLocationID           64215 non-null  float64       \n",
      " 7   passenger_count        59303 non-null  float64       \n",
      " 8   trip_distance          64215 non-null  float64       \n",
      " 9   fare_amount            64215 non-null  float64       \n",
      " 10  extra                  64215 non-null  float64       \n",
      " 11  mta_tax                64215 non-null  float64       \n",
      " 12  tip_amount             64215 non-null  float64       \n",
      " 13  tolls_amount           64215 non-null  float64       \n",
      " 14  ehail_fee              0 non-null      float64       \n",
      " 15  improvement_surcharge  64215 non-null  float64       \n",
      " 16  total_amount           64215 non-null  float64       \n",
      " 17  payment_type           59303 non-null  float64       \n",
      " 18  trip_type              59301 non-null  float64       \n",
      " 19  congestion_surcharge   59303 non-null  float64       \n",
      "dtypes: datetime64[us](2), float64(17), object(1)\n",
      "memory usage: 9.8+ MB\n"
     ]
    },
    {
     "data": {
      "text/html": [
       "<div>\n",
       "<style scoped>\n",
       "    .dataframe tbody tr th:only-of-type {\n",
       "        vertical-align: middle;\n",
       "    }\n",
       "\n",
       "    .dataframe tbody tr th {\n",
       "        vertical-align: top;\n",
       "    }\n",
       "\n",
       "    .dataframe thead th {\n",
       "        text-align: right;\n",
       "    }\n",
       "</style>\n",
       "<table border=\"1\" class=\"dataframe\">\n",
       "  <thead>\n",
       "    <tr style=\"text-align: right;\">\n",
       "      <th></th>\n",
       "      <th>VendorID</th>\n",
       "      <th>lpep_pickup_datetime</th>\n",
       "      <th>lpep_dropoff_datetime</th>\n",
       "      <th>store_and_fwd_flag</th>\n",
       "      <th>RatecodeID</th>\n",
       "      <th>PULocationID</th>\n",
       "      <th>DOLocationID</th>\n",
       "      <th>passenger_count</th>\n",
       "      <th>trip_distance</th>\n",
       "      <th>fare_amount</th>\n",
       "      <th>extra</th>\n",
       "      <th>mta_tax</th>\n",
       "      <th>tip_amount</th>\n",
       "      <th>tolls_amount</th>\n",
       "      <th>ehail_fee</th>\n",
       "      <th>improvement_surcharge</th>\n",
       "      <th>total_amount</th>\n",
       "      <th>payment_type</th>\n",
       "      <th>trip_type</th>\n",
       "      <th>congestion_surcharge</th>\n",
       "    </tr>\n",
       "  </thead>\n",
       "  <tbody>\n",
       "    <tr>\n",
       "      <th>0</th>\n",
       "      <td>2.0</td>\n",
       "      <td>2023-12-01 00:27:37</td>\n",
       "      <td>2023-12-01 00:42:48</td>\n",
       "      <td>N</td>\n",
       "      <td>1.0</td>\n",
       "      <td>74.0</td>\n",
       "      <td>243.0</td>\n",
       "      <td>1.0</td>\n",
       "      <td>4.80</td>\n",
       "      <td>22.6</td>\n",
       "      <td>1.0</td>\n",
       "      <td>0.5</td>\n",
       "      <td>5.02</td>\n",
       "      <td>0.0</td>\n",
       "      <td>NaN</td>\n",
       "      <td>1.0</td>\n",
       "      <td>30.12</td>\n",
       "      <td>1.0</td>\n",
       "      <td>1.0</td>\n",
       "      <td>0.0</td>\n",
       "    </tr>\n",
       "    <tr>\n",
       "      <th>1</th>\n",
       "      <td>1.0</td>\n",
       "      <td>2023-12-01 00:42:57</td>\n",
       "      <td>2023-12-01 00:56:16</td>\n",
       "      <td>N</td>\n",
       "      <td>1.0</td>\n",
       "      <td>80.0</td>\n",
       "      <td>25.0</td>\n",
       "      <td>2.0</td>\n",
       "      <td>3.60</td>\n",
       "      <td>19.1</td>\n",
       "      <td>1.0</td>\n",
       "      <td>1.5</td>\n",
       "      <td>4.30</td>\n",
       "      <td>0.0</td>\n",
       "      <td>NaN</td>\n",
       "      <td>1.0</td>\n",
       "      <td>25.90</td>\n",
       "      <td>1.0</td>\n",
       "      <td>1.0</td>\n",
       "      <td>0.0</td>\n",
       "    </tr>\n",
       "    <tr>\n",
       "      <th>2</th>\n",
       "      <td>2.0</td>\n",
       "      <td>2023-12-01 00:29:51</td>\n",
       "      <td>2023-12-01 00:49:38</td>\n",
       "      <td>N</td>\n",
       "      <td>1.0</td>\n",
       "      <td>70.0</td>\n",
       "      <td>83.0</td>\n",
       "      <td>1.0</td>\n",
       "      <td>2.07</td>\n",
       "      <td>18.4</td>\n",
       "      <td>1.0</td>\n",
       "      <td>0.5</td>\n",
       "      <td>0.00</td>\n",
       "      <td>0.0</td>\n",
       "      <td>NaN</td>\n",
       "      <td>1.0</td>\n",
       "      <td>20.90</td>\n",
       "      <td>2.0</td>\n",
       "      <td>1.0</td>\n",
       "      <td>0.0</td>\n",
       "    </tr>\n",
       "    <tr>\n",
       "      <th>3</th>\n",
       "      <td>2.0</td>\n",
       "      <td>2023-12-01 00:09:57</td>\n",
       "      <td>2023-12-01 00:36:51</td>\n",
       "      <td>N</td>\n",
       "      <td>1.0</td>\n",
       "      <td>112.0</td>\n",
       "      <td>106.0</td>\n",
       "      <td>1.0</td>\n",
       "      <td>8.66</td>\n",
       "      <td>38.7</td>\n",
       "      <td>1.0</td>\n",
       "      <td>0.5</td>\n",
       "      <td>8.24</td>\n",
       "      <td>0.0</td>\n",
       "      <td>NaN</td>\n",
       "      <td>1.0</td>\n",
       "      <td>49.44</td>\n",
       "      <td>1.0</td>\n",
       "      <td>1.0</td>\n",
       "      <td>0.0</td>\n",
       "    </tr>\n",
       "    <tr>\n",
       "      <th>4</th>\n",
       "      <td>2.0</td>\n",
       "      <td>2023-12-01 01:02:41</td>\n",
       "      <td>2023-12-01 01:11:20</td>\n",
       "      <td>N</td>\n",
       "      <td>1.0</td>\n",
       "      <td>129.0</td>\n",
       "      <td>179.0</td>\n",
       "      <td>1.0</td>\n",
       "      <td>2.74</td>\n",
       "      <td>14.2</td>\n",
       "      <td>1.0</td>\n",
       "      <td>0.5</td>\n",
       "      <td>0.00</td>\n",
       "      <td>0.0</td>\n",
       "      <td>NaN</td>\n",
       "      <td>1.0</td>\n",
       "      <td>16.70</td>\n",
       "      <td>2.0</td>\n",
       "      <td>1.0</td>\n",
       "      <td>0.0</td>\n",
       "    </tr>\n",
       "  </tbody>\n",
       "</table>\n",
       "</div>"
      ],
      "text/plain": [
       "   VendorID lpep_pickup_datetime lpep_dropoff_datetime store_and_fwd_flag  \\\n",
       "0       2.0  2023-12-01 00:27:37   2023-12-01 00:42:48                  N   \n",
       "1       1.0  2023-12-01 00:42:57   2023-12-01 00:56:16                  N   \n",
       "2       2.0  2023-12-01 00:29:51   2023-12-01 00:49:38                  N   \n",
       "3       2.0  2023-12-01 00:09:57   2023-12-01 00:36:51                  N   \n",
       "4       2.0  2023-12-01 01:02:41   2023-12-01 01:11:20                  N   \n",
       "\n",
       "   RatecodeID  PULocationID  DOLocationID  passenger_count  trip_distance  \\\n",
       "0         1.0          74.0         243.0              1.0           4.80   \n",
       "1         1.0          80.0          25.0              2.0           3.60   \n",
       "2         1.0          70.0          83.0              1.0           2.07   \n",
       "3         1.0         112.0         106.0              1.0           8.66   \n",
       "4         1.0         129.0         179.0              1.0           2.74   \n",
       "\n",
       "   fare_amount  extra  mta_tax  tip_amount  tolls_amount  ehail_fee  \\\n",
       "0         22.6    1.0      0.5        5.02           0.0        NaN   \n",
       "1         19.1    1.0      1.5        4.30           0.0        NaN   \n",
       "2         18.4    1.0      0.5        0.00           0.0        NaN   \n",
       "3         38.7    1.0      0.5        8.24           0.0        NaN   \n",
       "4         14.2    1.0      0.5        0.00           0.0        NaN   \n",
       "\n",
       "   improvement_surcharge  total_amount  payment_type  trip_type  \\\n",
       "0                    1.0         30.12           1.0        1.0   \n",
       "1                    1.0         25.90           1.0        1.0   \n",
       "2                    1.0         20.90           2.0        1.0   \n",
       "3                    1.0         49.44           1.0        1.0   \n",
       "4                    1.0         16.70           2.0        1.0   \n",
       "\n",
       "   congestion_surcharge  \n",
       "0                   0.0  \n",
       "1                   0.0  \n",
       "2                   0.0  \n",
       "3                   0.0  \n",
       "4                   0.0  "
      ]
     },
     "execution_count": 326,
     "metadata": {},
     "output_type": "execute_result"
    }
   ],
   "source": [
    "#2.1 display the dimensions, and indicate if the variables have suitable types\n",
    "\n",
    "num_rows = tripdata_df.shape[0] #represents num of rows in the dataframe\n",
    "num_cols = tripdata_df.shape[1] #represents the num of cols in the dataframe\n",
    "print(\"There are {} rows and {} columns.\".format(num_rows, num_cols))\n",
    "\n",
    "tripdata_df.info() #shows all variables and their types\n",
    "tripdata_df.head() #shows the first five rows of data\n",
    "\n",
    "#Variables with suitable types: lpep_pickup_datetime, lpep_dropoff_datetime, trip_distance, fare_amount, mta_tax, tip_amount, \n",
    "#total_amount, congestion_surcharge, extra, improvement_surcharge, tolls_amount\n",
    "\n",
    "#Variables without suitable types: VendorID(integer), store_and_fwd_flag(string), RatecodeID(integer), PULocationID(integer), \n",
    "#DOLocationID(integer), passenger_count(integer), payment_type(integer), trip_type(integer) \n",
    "\n",
    "#ehail_fee not included in dictionary"
   ]
  },
  {
   "cell_type": "code",
   "execution_count": 328,
   "metadata": {},
   "outputs": [
    {
     "name": "stdout",
     "output_type": "stream",
     "text": [
      "<class 'pandas.core.frame.DataFrame'>\n",
      "RangeIndex: 64215 entries, 0 to 64214\n",
      "Data columns (total 20 columns):\n",
      " #   Column                 Non-Null Count  Dtype         \n",
      "---  ------                 --------------  -----         \n",
      " 0   VendorID               64215 non-null  Int64         \n",
      " 1   lpep_pickup_datetime   64215 non-null  datetime64[us]\n",
      " 2   lpep_dropoff_datetime  64215 non-null  datetime64[us]\n",
      " 3   store_and_fwd_flag     59303 non-null  string        \n",
      " 4   RatecodeID             59303 non-null  Int64         \n",
      " 5   PULocationID           64215 non-null  Int64         \n",
      " 6   DOLocationID           64215 non-null  Int64         \n",
      " 7   passenger_count        59303 non-null  Int64         \n",
      " 8   trip_distance          64215 non-null  float64       \n",
      " 9   fare_amount            64215 non-null  float64       \n",
      " 10  extra                  64215 non-null  float64       \n",
      " 11  mta_tax                64215 non-null  float64       \n",
      " 12  tip_amount             64215 non-null  float64       \n",
      " 13  tolls_amount           64215 non-null  float64       \n",
      " 14  ehail_fee              0 non-null      float64       \n",
      " 15  improvement_surcharge  64215 non-null  float64       \n",
      " 16  total_amount           64215 non-null  float64       \n",
      " 17  payment_type           59303 non-null  Int64         \n",
      " 18  trip_type              59301 non-null  Int64         \n",
      " 19  congestion_surcharge   59303 non-null  float64       \n",
      "dtypes: Int64(7), datetime64[us](2), float64(10), string(1)\n",
      "memory usage: 10.2 MB\n"
     ]
    }
   ],
   "source": [
    "#2.2 convert all variables to suitable types\n",
    "\n",
    "#converting variables without suitable types to their suitable types\n",
    "tripdata_df['VendorID'] = tripdata_df['VendorID'].astype('Int64')\n",
    "tripdata_df['store_and_fwd_flag'] = tripdata_df['store_and_fwd_flag'].astype('string')\n",
    "tripdata_df['RatecodeID'] = tripdata_df['RatecodeID'].astype('Int64')\n",
    "tripdata_df['PULocationID'] = tripdata_df['PULocationID'].astype('Int64')\n",
    "tripdata_df['DOLocationID'] = tripdata_df['DOLocationID'].astype('Int64')\n",
    "tripdata_df['passenger_count'] = tripdata_df['passenger_count'].astype('Int64')\n",
    "tripdata_df['payment_type'] = tripdata_df['payment_type'].astype('Int64')\n",
    "tripdata_df['trip_type'] = tripdata_df['trip_type'].astype('Int64')\n",
    "\n",
    "tripdata_df.info() #show all variables with their updated types"
   ]
  },
  {
   "cell_type": "markdown",
   "metadata": {},
   "source": [
    "## 3. Types of Data (2 pts) \n",
    "Are there any categorical data in this dataset. If they exist, **demonstrate** at least two categorical variables and indicate if they are **nominal** or **ordinal** (hint: read the data dictionary above which describes all fields in the data)\n",
    "\n",
    "*Tip*: Justify why you classified each field as categorical. Provide your reasoning and the evidence to support your decision based on values in the data."
   ]
  },
  {
   "cell_type": "markdown",
   "metadata": {},
   "source": [
    "There is categorical data in this dataset. Two categorical variables are payment_type and trip_type. They are both nominal data because these values can be categorized into groups. For payment type, there is either cash, card. Same goes with trip_type, there are probably multiple categories. "
   ]
  },
  {
   "cell_type": "markdown",
   "metadata": {},
   "source": [
    "## 4. Missing Values (10 pts) \n",
    "Evaluate the frequency of missing values in the dataset and perform the following:\n",
    "1. explain if missing values are an isolated case or a widespread issue? \n",
    "2. what method would you recommend to handle missing data?\n",
    "3. write the suitable code to handle the missing values.\n",
    "\n",
    "*Tip*: When handling missing values, evaluate the row-wise and column-wise data to make informed decisions regarding which approach is suitable. When in doubt, review the Canvas lectures & readings for guidance."
   ]
  },
  {
   "cell_type": "code",
   "execution_count": 333,
   "metadata": {},
   "outputs": [
    {
     "data": {
      "text/plain": [
       "VendorID                     0\n",
       "lpep_pickup_datetime         0\n",
       "lpep_dropoff_datetime        0\n",
       "store_and_fwd_flag        4912\n",
       "RatecodeID                4912\n",
       "PULocationID                 0\n",
       "DOLocationID                 0\n",
       "passenger_count           4912\n",
       "trip_distance                0\n",
       "fare_amount                  0\n",
       "extra                        0\n",
       "mta_tax                      0\n",
       "tip_amount                   0\n",
       "tolls_amount                 0\n",
       "ehail_fee                64215\n",
       "improvement_surcharge        0\n",
       "total_amount                 0\n",
       "payment_type              4912\n",
       "trip_type                 4914\n",
       "congestion_surcharge      4912\n",
       "dtype: int64"
      ]
     },
     "execution_count": 333,
     "metadata": {},
     "output_type": "execute_result"
    }
   ],
   "source": [
    "tripdata_df.isnull().sum() #checks the frequency of null/missing values for each category\n",
    "#tripdata_df.isnull().sum(axis=1).sort_values(ascending = False) #checks to see columns with missing data\n",
    "\n",
    "#1. Missing values are a widespread issue. Multiple categories(store_and_fwd_flag, RatecodeID, passenger_count, payment_type, \n",
    "#and congestion_surcharge) all have the same amount of null values in the same row. "
   ]
  },
  {
   "cell_type": "code",
   "execution_count": 335,
   "metadata": {},
   "outputs": [],
   "source": [
    "#2. The method I would recommend to handle missing data is to perform deletion because the issue is widespread. "
   ]
  },
  {
   "cell_type": "code",
   "execution_count": 337,
   "metadata": {},
   "outputs": [
    {
     "data": {
      "text/plain": [
       "(59301, 20)"
      ]
     },
     "execution_count": 337,
     "metadata": {},
     "output_type": "execute_result"
    }
   ],
   "source": [
    "#3. write the suitable code to handle the missing values.\n",
    "\n",
    "tripdata_df = tripdata_df[tripdata_df.isnull().sum(axis=1) < 2] #deletes rows with 2 or more missing variables\n",
    "tripdata_df.shape #new dimensions: 59301 rows, 20 cols"
   ]
  },
  {
   "cell_type": "markdown",
   "metadata": {},
   "source": [
    "## 5. Invalid Data (10 pts) \n",
    "Explore the data to determine if there are any invalid values and perform the following: \n",
    "1. demonstrate at least three issues that you found. **`NOTE`: The issues that you found should not include any aspects from the previous questions.**\n",
    "2. write suitable code to handle the invalid data that you found."
   ]
  },
  {
   "cell_type": "code",
   "execution_count": 339,
   "metadata": {},
   "outputs": [],
   "source": [
    "#5.1 demonstrate at least three issues that you found. \n",
    "\n",
    "#1. An issue that I found was in the lpep_pickup_datetime and lpep_dropoff_datetime categories. On row 5, the pickup and dropoff times were\n",
    "#not in December 2023, which is what the dataset is based off of so it should be removed.  \n",
    "\n",
    "#2. Another issue that I found was in the mta_tax category. The dictionary says that there is an automatic 50 cent MTA tax but some rides\n",
    "#have the mta_tax as 1.5 instead of 0.5. \n",
    "\n",
    "#3. A similar issue to number 2, the improvement_surcharge category is also incorrect because the dictionary says there should be a \n",
    "#30 cent improvement surcharge but every ride has the improvement surcharge at 1.0 or $1 when it should be at $0.30. \n",
    "\n",
    "#tripdata_df.head(10)"
   ]
  },
  {
   "cell_type": "code",
   "execution_count": 347,
   "metadata": {},
   "outputs": [],
   "source": [
    "#5.2 write suitable code to handle the invalid data that you found.\n",
    "\n",
    "#tripdata_df = tripdata_df.drop(index=5) #deletes the row that has a november date\n",
    "\n",
    "tripdata_df['mta_tax'] = 0.5 #changes every value in the mta_tax column to 0.5 or 50 cents\n",
    "\n",
    "tripdata_df['improvement_surcharge'] = 0.3 #changes every value in the improvement_surcharge column to 0.3 or 30 cents. \n",
    "\n",
    "#tripdata_df.head(10)"
   ]
  },
  {
   "cell_type": "markdown",
   "metadata": {},
   "source": [
    "<span style='color:red'>**Answer the following questions using the prepared data.**</span>"
   ]
  },
  {
   "cell_type": "markdown",
   "metadata": {},
   "source": [
    "## 6. Data Visualization (12 pts) \n",
    "Create bar charts that show the following: \n",
    "1. the most common way that New Yorkers request/hail a cab. \n",
    "2. the data **for each week** to determine if there are patterns in the frequency of trips based on the day of the week (i.e. Sun to Sat).\n",
    "3. the most common pick-up locations (display the top 5 locations). \n",
    "4. the most common drop-off locations (display the top 5 locations). \n",
    "\n",
    "Explain each chart.\n",
    "\n",
    "*`TIP`: If the answers from your analysis in this question contains erroneous or invalid numeric values, this means that the data needs to be cleaned to ensure that the analytical results are coherent.*"
   ]
  },
  {
   "cell_type": "code",
   "execution_count": 257,
   "metadata": {},
   "outputs": [
    {
     "data": {
      "text/plain": [
       "<Axes: xlabel='trip_type'>"
      ]
     },
     "execution_count": 257,
     "metadata": {},
     "output_type": "execute_result"
    },
    {
     "data": {
      "image/png": "[encoded data removed]",
      "text/plain": [
       "<Figure size 640x480 with 1 Axes>"
      ]
     },
     "metadata": {},
     "output_type": "display_data"
    }
   ],
   "source": [
    "#6.1 the most common way that New Yorkers request/hail a cab.\n",
    "\n",
    "tripdata_df['trip_type'].value_counts().plot(kind='bar')\n",
    "#According to the dictionary, values with 1 means it was a street-hail request and values with 2 means that the cab was dispatched.\n",
    "#Therefore, the chart means that most requests were street-hails. "
   ]
  },
  {
   "cell_type": "code",
   "execution_count": 361,
   "metadata": {},
   "outputs": [
    {
     "data": {
      "text/plain": [
       "<Axes: xlabel='lpep_pickup_datetime'>"
      ]
     },
     "execution_count": 361,
     "metadata": {},
     "output_type": "execute_result"
    },
    {
     "data": {
      "image/png": "[encoded data removed]",
      "text/plain": [
       "<Figure size 640x480 with 1 Axes>"
      ]
     },
     "metadata": {},
     "output_type": "display_data"
    }
   ],
   "source": [
    "#6.2 the data for each week to determine if there are patterns in the frequency of trips based on the day of the week (i.e. Sun to Sat).\n",
    "\n",
    "week_index = tripdata_df['lpep_pickup_datetime'].dt.isocalendar().week\n",
    "day_index = tripdata_df['lpep_pickup_datetime'].dt.day_name()\n",
    "\n",
    "#week_48 = day_index[week_index == 48]\n",
    "#week_48.value_counts().plot(kind='bar')\n",
    "\n",
    "week_49 = day_index[week_index == 49]\n",
    "week_49.value_counts().plot(kind='bar')\n",
    "\n",
    "#week_50 = day_index[week_index == 50]\n",
    "#week_50.value_counts().plot(kind='bar')\n",
    "\n",
    "#week_51 = day_index[week_index == 51]\n",
    "#week_51.value_counts().plot(kind='bar')\n",
    "\n",
    "#week_52 = day_index[week_index == 52]\n",
    "#week_52.value_counts().plot(kind='bar')\n",
    "\n",
    "#Every week, the trend is that the number of rides goes down as the days pass or get closer to the weekend. "
   ]
  },
  {
   "cell_type": "code",
   "execution_count": 261,
   "metadata": {},
   "outputs": [
    {
     "data": {
      "text/plain": [
       "<Axes: xlabel='PULocationID'>"
      ]
     },
     "execution_count": 261,
     "metadata": {},
     "output_type": "execute_result"
    },
    {
     "data": {
      "image/png": "[encoded data removed]",
      "text/plain": [
       "<Figure size 640x480 with 1 Axes>"
      ]
     },
     "metadata": {},
     "output_type": "display_data"
    }
   ],
   "source": [
    "#6.3 the most common pick-up locations (display the top 5 locations).\n",
    "\n",
    "tripdata_df['PULocationID'].value_counts().head(5).plot(kind='bar')\n",
    "\n",
    "#Each number represents the TLC Taxi Zone in which the taximeter was engaged. Therefore, there were almost 14,000 pick ups in zone 74. \n",
    "#The next most was in zone 75 at about 8,000 pick ups. "
   ]
  },
  {
   "cell_type": "code",
   "execution_count": 363,
   "metadata": {},
   "outputs": [
    {
     "data": {
      "text/plain": [
       "<Axes: xlabel='DOLocationID'>"
      ]
     },
     "execution_count": 363,
     "metadata": {},
     "output_type": "execute_result"
    },
    {
     "data": {
      "image/png": "[encoded data removed]",
      "text/plain": [
       "<Figure size 640x480 with 1 Axes>"
      ]
     },
     "metadata": {},
     "output_type": "display_data"
    }
   ],
   "source": [
    "#6.4 the most common drop-off locations (display the top 5 locations).\n",
    "\n",
    "tripdata_df['DOLocationID'].value_counts().head(5).plot(kind='bar')\n",
    "\n",
    "#Each number represents the TLC Taxi Zone in which the taximeter was disengaged. Similar to the last question, most drop offs were in zone\n",
    "#75 with almost 3,000 and second highest was in zone 74. "
   ]
  },
  {
   "cell_type": "markdown",
   "metadata": {},
   "source": [
    "## 7. Data Analysis (9 pts)\n",
    "Write suitable code to answer the following:\n",
    "1. Calculate the **range** of distances traveled by the green taxis. Then, compare the average distance with the shortest and longest distances. What insights can be drawn about travel using these taxis?\n",
    "2. What is the most expensive and least expensive trip? \n",
    "3. What is the minimum, average and maximum **tip amount** for all trips that are 1) under 2 miles and 2) over 2 miles (i.e. >= 2)? \n",
    "\n",
    "Explain the results.\n",
    "\n",
    "*`TIP`: If the answers from your analysis in this question contains erroneous or invalid numeric values, this means that the data needs to be cleaned to ensure that the analytical results are coherent.*"
   ]
  },
  {
   "cell_type": "code",
   "execution_count": 285,
   "metadata": {},
   "outputs": [
    {
     "data": {
      "text/plain": [
       "count    59300.000000\n",
       "mean         2.664672\n",
       "std          3.152304\n",
       "min          0.000000\n",
       "25%          1.100000\n",
       "50%          1.800000\n",
       "75%          3.060000\n",
       "max         70.520000\n",
       "Name: trip_distance, dtype: float64"
      ]
     },
     "execution_count": 285,
     "metadata": {},
     "output_type": "execute_result"
    }
   ],
   "source": [
    "tripdata_df['trip_distance'].describe() #use describe() on only the trip_distance column\n",
    "\n",
    "#7.1 Calculate the range of distances traveled by the green taxis. Then, compare the average distance with the shortest and longest \n",
    "#distances. What insights can be drawn about travel using these taxis?\n",
    "\n",
    "#The range of distances traveled by the green taxis is 0.000000(minimum) and 70.520000(maximum). The average distance is 2.664672. \n",
    "#Based on this data, the average ride distance is closer to the minmum ride distance than the maximum. In addition, it means that \n",
    "#most rides are short and not long. "
   ]
  },
  {
   "cell_type": "code",
   "execution_count": 289,
   "metadata": {},
   "outputs": [
    {
     "data": {
      "text/plain": [
       "count    59300.000000\n",
       "mean        23.626883\n",
       "std         24.726866\n",
       "min       -221.000000\n",
       "25%         13.300000\n",
       "50%         18.500000\n",
       "75%         26.900000\n",
       "max       1622.600000\n",
       "Name: total_amount, dtype: float64"
      ]
     },
     "execution_count": 289,
     "metadata": {},
     "output_type": "execute_result"
    }
   ],
   "source": [
    "#7.2 What is the most expensive and least expensive trip?\n",
    "\n",
    "tripdata_df['total_amount'].describe() #use describe() only on the total_amount column. \n",
    "\n",
    "#The least expensive trip was -$221 and the most expensive trip was $1,622. "
   ]
  },
  {
   "cell_type": "code",
   "execution_count": 377,
   "metadata": {},
   "outputs": [
    {
     "name": "stdout",
     "output_type": "stream",
     "text": [
      "Trips under 2 miles:\n",
      "min tip: $-0.01\n",
      "avg tip: $1.5027738321190227\n",
      "max tip: $150.0\n",
      "\n",
      "Trips above 2 miles:\n",
      "min tip: $0.0\n",
      "avg tip: $3.227645115266201\n",
      "max tip: $100.0\n"
     ]
    }
   ],
   "source": [
    "#7.3 What is the minimum, average and maximum tip amount for all trips that are 1) under 2 miles and 2) over 2 miles (i.e. >= 2)?\n",
    "\n",
    "below_2 = tripdata_df[tripdata_df['trip_distance'] < 2]\n",
    "below_2_min_tip = below_2['tip_amount'].min()\n",
    "below_2_avg = below_2['tip_amount'].mean()\n",
    "below_2_max_tip = below_2['tip_amount'].max()\n",
    "print(\"Trips under 2 miles:\")\n",
    "print(f\"min tip: ${below_2_min_tip}\")\n",
    "print(f\"avg tip: ${below_2_avg}\")\n",
    "print(f\"max tip: ${below_2_max_tip}\\n\")\n",
    "\n",
    "above_2 = tripdata_df[tripdata_df['trip_distance'] >= 2]\n",
    "above_2_min_tip = above_2['tip_amount'].min()\n",
    "above_2_avg = above_2['tip_amount'].mean()\n",
    "above_2_max_tip = above_2['tip_amount'].max()\n",
    "print(\"Trips above 2 miles:\")\n",
    "print(f\"min tip: ${above_2_min_tip}\")\n",
    "print(f\"avg tip: ${above_2_avg}\")\n",
    "print(f\"max tip: ${above_2_max_tip}\")"
   ]
  },
  {
   "cell_type": "markdown",
   "metadata": {},
   "source": [
    "## 8. Findings (2 pts)\n",
    "Based on the preliminary analysis, is this data a viable source that can be used by your team in the future to understand how New Yorkers use these taxis? Justify your response."
   ]
  },
  {
   "cell_type": "markdown",
   "metadata": {},
   "source": [
    "Based on the preliminary analysis, this data is a viable source that can be used by my team in the future to understand how New Yorkers use these taxis because after fixing the data set, I believe that it is useful for many reasons. It contains data on things such as pick up and drop off times, trip distance, tip amounts, toll amounts, and total amounts. It can be used to understand New Yorkers based on the patterns shown in this data set. Since I fixed things such as incorrect dates and I also fixed mta fees and improvement surcharge fees. "
   ]
  }
 ],
 "metadata": {
  "kernelspec": {
   "display_name": "Python [conda env:base] *",
   "language": "python",
   "name": "conda-base-py"
  },
  "language_info": {
   "codemirror_mode": {
    "name": "ipython",
    "version": 3
   },
   "file_extension": ".py",
   "mimetype": "text/x-python",
   "name": "python",
   "nbconvert_exporter": "python",
   "pygments_lexer": "ipython3",
   "version": "3.12.7"
  }
 },
 "nbformat": 4,
 "nbformat_minor": 4
}
