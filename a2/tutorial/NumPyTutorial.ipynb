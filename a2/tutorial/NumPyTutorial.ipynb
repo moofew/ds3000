{
 "cells": [
  {
   "cell_type": "markdown",
   "metadata": {},
   "source": [
    "# Data Ingestion: Tabular Data using NumPy\n",
    "\n",
    "**What is NumPy**\n",
    "\n",
    "NumPy (Numerical Python) is an open source Python library that allows fast and efficient operations on numerical data. It is a dependency for many Data Science and Machine Learning libraries such as: Pandas, SciPy (Scientific Python), Scikit-Learn, Matplotlib (for data visualization) etc. Click [here to learn more about numpy](https://numpy.org/doc/stable/user/whatisnumpy.html). It has many built-in functions that allow us to easily import numerical data, and perform various transformations on it.\n",
    "\n",
    "\n",
    "This notebook will briefly introduce: 1) the NumPy array and basic operations that can be performed, and 2) how to load tabular (numerical) data into a numpy array.\n",
    "\n",
    "The outline is as follows:\n",
    "\n",
    "1. <a href='#1.-Intro-to-NumPy'>Intro to NumPy</a>\n",
    "   1. <a href='#1.1-How-to-Create-an-Array'>How to Create an Array</a>\n",
    "   2. <a href='#1.2-Reshaping-an-Array'>Reshaping an Array</a>\n",
    "   3. <a href='#1.3-Indexing-&-Slicing-an-Array'>Indexing & Slicing</a>\n",
    "   4. <a href='#1.4-Useful-Operations-with-arrays'>Useful Operations with arrays</a>\n",
    "   5. <a href='#1.5-Filtering-Arrays'>Filtering Arrays</a>\n",
    "   6. <a href='#1.6-Compare-Numpy-Arrays-with-Lists'>Compare Numpy Arrays with Lists</a>\n",
    "2. <a href='#2.-Loading-Tabular-Data'>Loading Tabular Data</a>"
   ]
  },
  {
   "cell_type": "markdown",
   "metadata": {},
   "source": [
    "## 1. Intro to NumPy\n",
    "\n",
    "NumPy can be used to ingest data in tabular format and store it in an array. However, before we start to load tabular data, let's review a few basics and learn about numpy arrays and some of the mathematical operations that can be performed on data inside them.\n",
    "\n",
    "**First we need to import numpy**"
   ]
  },
  {
   "cell_type": "code",
   "execution_count": 1,
   "metadata": {},
   "outputs": [],
   "source": [
    "#Import libraries\n",
    "import numpy as np #np is the widely adopted alias for numpy\n"
   ]
  },
  {
   "cell_type": "markdown",
   "metadata": {},
   "source": [
    "### 1.1 How to Create an Array\n",
    "An array is another type of data structure that contains elements of the same type i.e. the elements inside the array should either be integers or floats etc but never a mixture of types such as both integers and strings.\n",
    "\n",
    "There a many ways to create an array, and we will cover the following.\n",
    "\n",
    "How to create arrays:\n",
    "- from another python data structure e.g. lists and tuples\n",
    "- using custom numpy functions e.g. zeros, ones, arrange, etc\n",
    "\n",
    "For more information on the above, and also other ways to create arrays, read the following resource about [array creation in numpy](https://numpy.org/doc/stable/user/basics.creation.html)"
   ]
  },
  {
   "cell_type": "markdown",
   "metadata": {},
   "source": [
    "#### 1.1.1 Create a NumPy Array from Another Python Data Structure (i.e. Existing Data)\n",
    "One of the quickest ways to create a numpy array is from an existing Python list. For example, if we had the following python list which contains the following numbers:\n",
    "\n",
    "```Python\n",
    "#List definition and initialization\n",
    "numbers = [1, 3, 5, 7, 9]\n",
    "```\n",
    "\n",
    "We can create the equivalent array as follows"
   ]
  },
  {
   "cell_type": "code",
   "execution_count": 2,
   "metadata": {},
   "outputs": [],
   "source": [
    "#numbers = [1, 3, 5, 7, 9]  #this is the list definition\n",
    "\n",
    "numbers = np.array([1, 3, 5, 7, 9]) #this is the equivalent numpy array for the list above\n"
   ]
  },
  {
   "cell_type": "code",
   "execution_count": 3,
   "metadata": {},
   "outputs": [
    {
     "data": {
      "text/plain": [
       "numpy.ndarray"
      ]
     },
     "execution_count": 3,
     "metadata": {},
     "output_type": "execute_result"
    }
   ],
   "source": [
    "#we can verify the type using the type function\n",
    "type(numbers)"
   ]
  },
  {
   "cell_type": "markdown",
   "metadata": {},
   "source": [
    "Similar to lists, numpy arrays are also zero-indexed and the elements can be accessed using square brackets. For example, lets display the first number:"
   ]
  },
  {
   "cell_type": "code",
   "execution_count": 4,
   "metadata": {},
   "outputs": [
    {
     "name": "stdout",
     "output_type": "stream",
     "text": [
      "1\n"
     ]
    }
   ],
   "source": [
    "print(numbers[0])"
   ]
  },
  {
   "cell_type": "code",
   "execution_count": 5,
   "metadata": {},
   "outputs": [
    {
     "data": {
      "text/plain": [
       "dtype('int64')"
      ]
     },
     "execution_count": 5,
     "metadata": {},
     "output_type": "execute_result"
    }
   ],
   "source": [
    "#we can verify the type of each element in the array using the dtype method\n",
    "numbers.dtype"
   ]
  },
  {
   "cell_type": "markdown",
   "metadata": {},
   "source": [
    "**Dimensions of a NumPy array**\n",
    "\n",
    "The output above reveals that the variable `numbers` has a type thats called an `ndarray`, which is the abbreviation for **N-dimensional array**. An n-dimensional array is an array with any number of dimensions. It can be one-dimensional i.e. 1-D array, two-dimensional i.e. 2-D array, 3-D or higher dimensional arrays (often called n-dimensional, where **n** is the number of dimensions).\n",
    "\n",
    "The illustration below demonstrates the difference between 1-D, 2-D and 3-D arrays. The 1-D array contains one row with four elements: 7, 2, 9, and 10. This is similar to a vector. \n",
    "\n",
    "The 2-D array contains 2 rows, and each row has three elements. This is similar to a matrix. The number of dimensions and lengths along each dimension can vary, depending on the dataset. However, we can use the `.shape` property of the array to find out its dimensions.\n"
   ]
  },
  {
   "attachments": {},
   "cell_type": "markdown",
   "metadata": {},
   "source": [
    "<img src=\"https://www.oreilly.com/library/view/elegant-scipy/9781491922927/assets/elsp_0105.png\" width=450></img>\n",
    "<p style=\"font-size:8px; text-align:center\">Credit: https://www.oreilly.com/library/view/elegant-scipy/9781491922927/ch01.html</p>"
   ]
  },
  {
   "cell_type": "code",
   "execution_count": 6,
   "metadata": {},
   "outputs": [
    {
     "name": "stdout",
     "output_type": "stream",
     "text": [
      "(5,)\n"
     ]
    }
   ],
   "source": [
    "#1D array shape\n",
    "print(numbers.shape)"
   ]
  },
  {
   "cell_type": "code",
   "execution_count": 7,
   "metadata": {},
   "outputs": [
    {
     "name": "stdout",
     "output_type": "stream",
     "text": [
      "[[ 1  3  5  7  9]\n",
      " [ 2  4  6  8 10]]\n",
      "(2, 5)\n"
     ]
    }
   ],
   "source": [
    "#declare a 2D array and check its shape\n",
    "multi_numbers = np.array([[1, 3, 5, 7, 9], [2, 4, 6, 8, 10]])\n",
    "print(multi_numbers)\n",
    "print(multi_numbers.shape)"
   ]
  },
  {
   "cell_type": "code",
   "execution_count": null,
   "metadata": {},
   "outputs": [],
   "source": []
  },
  {
   "cell_type": "markdown",
   "metadata": {},
   "source": [
    "#### 1.1.2 Create a NumPy Array Using Custom Numpy Functions\n",
    "Numpy arrays can be created using functions such as: `empty()`, `arange()`, `ones()`, `zeros()`, etc. These functions allow the user to customize the shape of the array and its initial elements. For example:\n",
    "\n",
    "- `empty()`: create an empty array with random numbers\n",
    "- `zeros()`: create an array filled with zeros\n",
    "- `ones()`: create an array filled with ones\n",
    "- `arange()`: create an array from a range of numbers (similar to the built-in `range()` function)\n",
    "\n",
    "Here are a few examples below."
   ]
  },
  {
   "cell_type": "code",
   "execution_count": 8,
   "metadata": {},
   "outputs": [
    {
     "data": {
      "text/plain": [
       "array([0., 0., 0., 0., 0.])"
      ]
     },
     "execution_count": 8,
     "metadata": {},
     "output_type": "execute_result"
    }
   ],
   "source": [
    "#create an empty array with 5 elements\n",
    "np.empty(5)"
   ]
  },
  {
   "cell_type": "code",
   "execution_count": 9,
   "metadata": {},
   "outputs": [
    {
     "data": {
      "text/plain": [
       "array([0., 0., 0., 0., 0., 0., 0., 0., 0., 0.])"
      ]
     },
     "execution_count": 9,
     "metadata": {},
     "output_type": "execute_result"
    }
   ],
   "source": [
    "#create an array thats initialized with zeros\n",
    "np.zeros(10) #the array will contain 10 elements\n"
   ]
  },
  {
   "cell_type": "code",
   "execution_count": 10,
   "metadata": {},
   "outputs": [
    {
     "data": {
      "text/plain": [
       "array([1., 1., 1.])"
      ]
     },
     "execution_count": 10,
     "metadata": {},
     "output_type": "execute_result"
    }
   ],
   "source": [
    "##create an array thats initialized with ones\n",
    "np.ones(3)#the array will contain 3 elements"
   ]
  },
  {
   "cell_type": "code",
   "execution_count": 11,
   "metadata": {},
   "outputs": [
    {
     "data": {
      "text/plain": [
       "array([[1., 1., 1., 1.],\n",
       "       [1., 1., 1., 1.]])"
      ]
     },
     "execution_count": 11,
     "metadata": {},
     "output_type": "execute_result"
    }
   ],
   "source": [
    "#create a 2-d array thats filled with ones\n",
    "np.ones((2, 4))"
   ]
  },
  {
   "cell_type": "markdown",
   "metadata": {},
   "source": [
    "The default data type for numpy array is floating point **np.float64**. However, you can explicitly specify which data type you want using the **dtype** keyword. For example:"
   ]
  },
  {
   "cell_type": "code",
   "execution_count": 12,
   "metadata": {},
   "outputs": [
    {
     "data": {
      "text/plain": [
       "array([1, 1])"
      ]
     },
     "execution_count": 12,
     "metadata": {},
     "output_type": "execute_result"
    }
   ],
   "source": [
    "#specifying a data type\n",
    "np.ones(2, dtype=np.int64)\n"
   ]
  },
  {
   "cell_type": "code",
   "execution_count": null,
   "metadata": {},
   "outputs": [],
   "source": []
  },
  {
   "cell_type": "markdown",
   "metadata": {},
   "source": [
    "Numpy arrays can be created with a range of elements using `arange()`, which works in a similar manner as the `range()` function. Here are a few examples:"
   ]
  },
  {
   "cell_type": "code",
   "execution_count": 13,
   "metadata": {},
   "outputs": [
    {
     "data": {
      "text/plain": [
       "array([0, 1, 2, 3, 4, 5, 6, 7])"
      ]
     },
     "execution_count": 13,
     "metadata": {},
     "output_type": "execute_result"
    }
   ],
   "source": [
    "#create an array from a range of numbers between 0 and 8 (excluding 8)\n",
    "np.arange(8)"
   ]
  },
  {
   "cell_type": "code",
   "execution_count": 14,
   "metadata": {},
   "outputs": [
    {
     "data": {
      "text/plain": [
       "array([1, 2, 3, 4, 5, 6, 7, 8, 9])"
      ]
     },
     "execution_count": 14,
     "metadata": {},
     "output_type": "execute_result"
    }
   ],
   "source": [
    "#create an array of numbers in ascending order, between 1 and 10 (excluding 10)\n",
    "np.arange(1, 10)\n"
   ]
  },
  {
   "cell_type": "code",
   "execution_count": 15,
   "metadata": {},
   "outputs": [
    {
     "data": {
      "text/plain": [
       "array([10,  8,  6,  4,  2])"
      ]
     },
     "execution_count": 15,
     "metadata": {},
     "output_type": "execute_result"
    }
   ],
   "source": [
    "#create an array of even numbers in descending order, between 10 and 1.\n",
    "np.arange(10, 1, -2)"
   ]
  },
  {
   "cell_type": "code",
   "execution_count": null,
   "metadata": {},
   "outputs": [],
   "source": []
  },
  {
   "cell_type": "markdown",
   "metadata": {},
   "source": [
    "Another helpful method is to create an array and initialize all elements with the same value and the dtype. The example below creates a 2-d array with all elements initialized to 50. Since 50 is an integer, all elements will have the **np.int64** data type."
   ]
  },
  {
   "cell_type": "code",
   "execution_count": 16,
   "metadata": {},
   "outputs": [
    {
     "data": {
      "text/plain": [
       "array([[50, 50, 50],\n",
       "       [50, 50, 50]])"
      ]
     },
     "execution_count": 16,
     "metadata": {},
     "output_type": "execute_result"
    }
   ],
   "source": [
    "#create a 2-d array thats initialized with the same value and type\n",
    "np.full((2, 3), 50) "
   ]
  },
  {
   "cell_type": "markdown",
   "metadata": {},
   "source": [
    "### 1.2 Reshaping an Array\n",
    "\n",
    "Numpy arrays can be transformed (i.e. reshaped) into a different number of dimensions without changing the original data.  However, the new shape must have the same number of elements as the original array.\n",
    "\n",
    "For example, we previously declared an array called multi_numbers which was a 2x5 array. Let's reshape it:"
   ]
  },
  {
   "cell_type": "code",
   "execution_count": 17,
   "metadata": {},
   "outputs": [
    {
     "data": {
      "text/plain": [
       "array([[ 1,  3],\n",
       "       [ 5,  7],\n",
       "       [ 9,  2],\n",
       "       [ 4,  6],\n",
       "       [ 8, 10]])"
      ]
     },
     "execution_count": 17,
     "metadata": {},
     "output_type": "execute_result"
    }
   ],
   "source": [
    "multi_numbers = multi_numbers.reshape(5,2)\n",
    "multi_numbers"
   ]
  },
  {
   "cell_type": "markdown",
   "metadata": {},
   "source": [
    "As you can see the original elements remain unchanged, but the shape is different.\n",
    "\n",
    "### 1.3 Indexing & Slicing an Array\n",
    "\n",
    "Numpy arrays can be sliced and indexed similar to python lists. You can learn more about slicing at the following resource: [Indexing & Slicing](https://numpy.org/doc/stable/user/absolute_beginners.html#indexing-and-slicing).\n",
    "\n",
    "Here are a few examples:"
   ]
  },
  {
   "cell_type": "code",
   "execution_count": 18,
   "metadata": {},
   "outputs": [
    {
     "data": {
      "text/plain": [
       "array([3, 5])"
      ]
     },
     "execution_count": 18,
     "metadata": {},
     "output_type": "execute_result"
    }
   ],
   "source": [
    "#slicing 1-d array\n",
    "numbers[1:3] #1 and 3 are the start and end indices"
   ]
  },
  {
   "cell_type": "code",
   "execution_count": 19,
   "metadata": {},
   "outputs": [
    {
     "data": {
      "text/plain": [
       "array([7, 2, 6])"
      ]
     },
     "execution_count": 19,
     "metadata": {},
     "output_type": "execute_result"
    }
   ],
   "source": [
    "#slicing 2-d array\n",
    "multi_numbers[1:4, 1] #you can specify start and end indices for each dimension i.e. axis\n",
    "\n",
    "#PRACTICE: try different values to see how to result changes"
   ]
  },
  {
   "cell_type": "markdown",
   "metadata": {},
   "source": [
    "### 1.4 Useful Operations with arrays\n",
    "\n",
    "Numpy has builtin functions that enable basic arithmetic operation on one or more arrays. You can learn more about these operations at the following resource: [useful array operations](https://numpy.org/doc/stable/user/absolute_beginners.html#more-useful-array-operations).\n",
    "\n",
    "In the example below, an array was created with three elements:\n",
    "\n",
    "```python\n",
    "data = np.array([1, 2, 3])\n",
    "```\n",
    "\n",
    "We can use methods like `max()`, `min()` and `sum()` as follows:\n",
    "\n",
    "<p style=\"font-size:8px; text-align:center\"><img src=\"https://numpy.org/doc/stable/_images/np_aggregation.png\" width=450></img>\n",
    "Source: https://numpy.org/doc/stable/user/absolute_beginners.html#more-useful-array-operations </p>                                                                       \n"
   ]
  },
  {
   "cell_type": "code",
   "execution_count": 20,
   "metadata": {},
   "outputs": [
    {
     "name": "stdout",
     "output_type": "stream",
     "text": [
      "The maximum value is:  3\n",
      "The minimum value is:  1\n",
      "The total value is:  6\n"
     ]
    }
   ],
   "source": [
    "data = np.array([1, 2, 3])\n",
    "print('The maximum value is: ', data.max())\n",
    "print('The minimum value is: ', data.min())\n",
    "print('The total value is: ', data.sum())"
   ]
  },
  {
   "cell_type": "markdown",
   "metadata": {},
   "source": [
    "There are other methods, such as: `mean()`, `std()` and `var()` to obtain the average, standard deviation and variance respectively. I encourage you to try them as an exercise.\n",
    "\n",
    "### 1.5 Filtering Arrays\n",
    "\n",
    "Arrays can be filtered to extract values based on a condition. When writing the logic to filter an array, you'll notice a lot of similarity with comparison operators that you previously learned about. For example:"
   ]
  },
  {
   "cell_type": "code",
   "execution_count": 21,
   "metadata": {},
   "outputs": [
    {
     "name": "stdout",
     "output_type": "stream",
     "text": [
      "[6 7 8 9]\n"
     ]
    }
   ],
   "source": [
    "#create an array with 10 numbers\n",
    "ten_numbers = np.arange(1, 10)\n",
    "\n",
    "#filter the array to obtain all numbers that are greater than 5\n",
    "result = ten_numbers[ten_numbers > 5]\n",
    "print(result)"
   ]
  },
  {
   "cell_type": "markdown",
   "metadata": {},
   "source": [
    "The example above uses comparison operators that you previously learned about. Using the name of the array that we would like to filter, the condition is placed inside square brackets. This extracts only the elements in the array that satisfied the condition.\n",
    "\n",
    "\n",
    "### 1.6 Compare Numpy Arrays with Lists\n",
    "\n",
    "Let's look at one example that demonstrates one of the key differences between numpy arrays and python lists. We'll first create a sequence of numbers between 1 and 5 (inclusive), and then increase each element in the sequence by a scalar (i.e. 2). "
   ]
  },
  {
   "cell_type": "code",
   "execution_count": 22,
   "metadata": {},
   "outputs": [
    {
     "name": "stdout",
     "output_type": "stream",
     "text": [
      "The result from an array:  [ 2  4  6  8 10]\n",
      "The result from a list:  [1, 2, 3, 4, 5, 1, 2, 3, 4, 5]\n"
     ]
    }
   ],
   "source": [
    "#create an array with 5 numbers\n",
    "array_of_numbers = np.arange(1,6)\n",
    "\n",
    "#create a list with the same 5 numbers\n",
    "list_of_numbers = [1, 2, 3, 4, 5]\n",
    "\n",
    "#increase each value by 2\n",
    "array_result = array_of_numbers * 2 \n",
    "print('The result from an array: ', array_result)\n",
    "\n",
    "\n",
    "list_result = list_of_numbers * 2\n",
    "print('The result from a list: ', list_result)"
   ]
  },
  {
   "cell_type": "markdown",
   "metadata": {},
   "source": [
    "As you can see from the output above, the numpy array performs an element-wise calculation to increase each value in the array by a multiple of 2. The python list, however, duplicates the list. In order to achieve the same result using a list, we need to adopt a different approach (which *may* involve a loop).\n",
    "\n",
    "This is one of the reasons that numpy arrays are preferred over python lists, especially when performing numerical operations which can be evaluated using element-wise calculations to avoid the overhead of using a loop."
   ]
  },
  {
   "cell_type": "code",
   "execution_count": null,
   "metadata": {},
   "outputs": [],
   "source": []
  },
  {
   "cell_type": "markdown",
   "metadata": {},
   "source": [
    "## 2. Loading Tabular (Numeric) Data\n",
    "NumPy has two standard ways to import flat files, they are: `numpy.loadtxt()` and `numpy.genfromtxt()`. Click the following link to learn more about [reading and writing files](https://numpy.org/doc/stable/user/how-to-io.html) with numpy.\n",
    "\n",
    "This example demonstrates how to read comma delimited file using the **loadtxt()** function. I encourage you to first open this csv file: `gpa_study_hours.csv` and view its contents before running the cell below.\n",
    "\n",
    "The data in the csv file contains the GPA and study_hours for a sample of 193 undergraduate students at a private US university. You can view the following webpage, for more information about the dataset: [Student GPA and Study Hours Dataset](https://www.openintro.org/data/index.php?data=gpa_study_hours).\n",
    "\n",
    "Let's load the csv file using the **loadtxt()** function. Seeing that the file is delimited by commas and includes a header, we need to specify the delimiter and skip the header when importing the data."
   ]
  },
  {
   "cell_type": "code",
   "execution_count": 23,
   "metadata": {},
   "outputs": [
    {
     "name": "stdout",
     "output_type": "stream",
     "text": [
      "[[ 4.   10.  ]\n",
      " [ 3.8  25.  ]\n",
      " [ 3.93 45.  ]\n",
      " [ 3.4  10.  ]\n",
      " [ 3.2   4.  ]]\n"
     ]
    }
   ],
   "source": [
    "data = np.loadtxt('gpa_study_hours.csv', #the file name\n",
    "                  delimiter=',', #indicate the delimiter\n",
    "                  skiprows=1) #skip the header\n",
    "\n",
    "#verify the data was imported correctly\n",
    "print(data[:5,]) #show the first five rows of the data\n"
   ]
  },
  {
   "cell_type": "code",
   "execution_count": null,
   "metadata": {},
   "outputs": [],
   "source": []
  },
  {
   "cell_type": "markdown",
   "metadata": {},
   "source": [
    "As you can see, we successfully imported the data. If necessary, you can verify the type to confirm that it is a numpy array using the type function. \n",
    "\n",
    "For example:\n",
    "```Python\n",
    "type(data)\n",
    "```\n",
    "\n",
    "Now that the data is in a numpy array, we can learn more about our dataset and ask certain questions like:\n",
    "- whats the highest and lowest GPA in this dataset?\n",
    "- On average, how many hours do students with a 4.0 gpa study?\n",
    "- etc...\n",
    "\n",
    "These initial questions help us to understand the dataset and learn more about the sample of students that are being analyzed.\n",
    "\n",
    "Let's write python code to answer these questions and we will use the built-in methods that numpy provides."
   ]
  },
  {
   "cell_type": "code",
   "execution_count": 24,
   "metadata": {},
   "outputs": [
    {
     "name": "stdout",
     "output_type": "stream",
     "text": [
      "The minimum GPA in the dataset is:  2.6\n"
     ]
    }
   ],
   "source": [
    "#Get the minimum GPA. The GPA is in the first column, which is index 0\n",
    "min_gpa = data[:,0].min()\n",
    "print('The minimum GPA in the dataset is: ', min_gpa)"
   ]
  },
  {
   "cell_type": "code",
   "execution_count": 25,
   "metadata": {},
   "outputs": [
    {
     "name": "stdout",
     "output_type": "stream",
     "text": [
      "The maximum GPA in the dataset is:  4.3\n"
     ]
    }
   ],
   "source": [
    "#Get the maximum GPA\n",
    "max_gpa = data[:,0].max()\n",
    "print('The maximum GPA in the dataset is: ', max_gpa)"
   ]
  },
  {
   "cell_type": "code",
   "execution_count": 26,
   "metadata": {},
   "outputs": [
    {
     "name": "stdout",
     "output_type": "stream",
     "text": [
      "The average study hours for students with a 4.0 gpa is:  15.777777777777779\n"
     ]
    }
   ],
   "source": [
    "#filter the data to find all students with 4.0 gpa and assign the result to a new variable\n",
    "gpa = data[data[:,0] == 4.0]\n",
    "\n",
    "#calculate the average study hours. The study hours is in the second column, which is index 1\n",
    "avg_study_hours = gpa[:,1].mean()\n",
    "\n",
    "print('The average study hours for students with a 4.0 gpa is: ', avg_study_hours)"
   ]
  },
  {
   "cell_type": "code",
   "execution_count": null,
   "metadata": {},
   "outputs": [],
   "source": [
    " "
   ]
  }
 ],
 "metadata": {
  "kernelspec": {
   "display_name": "Python [conda env:base] *",
   "language": "python",
   "name": "conda-base-py"
  },
  "language_info": {
   "codemirror_mode": {
    "name": "ipython",
    "version": 3
   },
   "file_extension": ".py",
   "mimetype": "text/x-python",
   "name": "python",
   "nbconvert_exporter": "python",
   "pygments_lexer": "ipython3",
   "version": "3.12.7"
  }
 },
 "nbformat": 4,
 "nbformat_minor": 4
}
