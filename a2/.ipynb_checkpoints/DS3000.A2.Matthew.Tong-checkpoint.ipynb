{
 "cells": [
  {
   "cell_type": "markdown",
   "metadata": {},
   "source": [
    "# DS 3000 - Assignment 02\n",
    "\n",
    "**Student Name**: Matthew Tong\n",
    "\n",
    "**Date**: 1/18/25\n",
    "\n",
    "\n",
    "### Submission Instructions\n",
    "Submit this `ipynb` file to canvas.\n",
    "\n",
    "The `ipynb` format stores outputs from the last time you ran the notebook.  (When you open a notebook it has the figures and outputs of the last time you ran it too).  To ensure that your submitted `ipynb` file represents your latest code, make sure to give a fresh run `Kernel > Restart & Run All` just before uploading the `ipynb` file to Canvas.\n",
    "\n",
    "### Academic Integrity\n",
    "\n",
    "**Writing your homework is an individual effort.**  You may discuss general python problems with other students but under no circumstances should you observe another student's code which was written for this assignment, from this year or past years.  Pop into office hours or DM us in MS Teams if you have a specific question about your work or if you would like another pair of eyes or talk through your code.\n",
    "\n",
    "Don't forget to cite websites which helped you solve a problem in a unique way.  You can do this in markdown near the code or with a simple one-line comment. You do not need to cite the official python documentation.\n",
    "\n",
    "**Documentation / style counts for credit**  Please refer to the Pep-8 style, to improve the readability and consistency of your Python code. For more information, read the following article [How to Write Beautiful Python Code With PEP 8](https://realpython.com/python-pep8/) or ask your TA's for tips.\n",
    "\n",
    "**NOTE:<span style='color:red'> Write python expressions to answer ALL questions below and ensure that you use the `print()` function to display the output.</span>** Each question should be answered in a new code cell. For example, your solution for question 1.1 should be in a different code cell from your solution for question 1.2."
   ]
  },
  {
   "cell_type": "markdown",
   "metadata": {},
   "source": [
    "## Question 1.1: \n",
    "Load the attached data into a numpy array and display the dimensions of the data : birthwt.csv\n",
    "Note: do not count the column headers, only the data."
   ]
  },
  {
   "cell_type": "code",
   "execution_count": 245,
   "metadata": {},
   "outputs": [
    {
     "name": "stdout",
     "output_type": "stream",
     "text": [
      "(189, 10)\n"
     ]
    }
   ],
   "source": [
    "import numpy as np\n",
    "\n",
    "data = np.loadtxt(\"birthwt.csv\", delimiter = \",\", skiprows = 1)\n",
    "print(data.shape)"
   ]
  },
  {
   "cell_type": "markdown",
   "metadata": {},
   "source": [
    "## Question 1.2: \n",
    "What is the age range of mothers in this dataset.\n",
    "Note: the range should include: the minimum, average and maximum age. Ensure that the ages are represented as whole numbers.\n"
   ]
  },
  {
   "cell_type": "code",
   "execution_count": 248,
   "metadata": {},
   "outputs": [
    {
     "name": "stdout",
     "output_type": "stream",
     "text": [
      "Minimum Age: 14\n",
      "Average Age: 23\n",
      "Maximum Age: 45\n"
     ]
    }
   ],
   "source": [
    "ages = data[:,1]\n",
    "\n",
    "minimum_age = int(np.min(ages))\n",
    "average_age = int(np.mean(ages))\n",
    "maximum_age = int(np.max(ages))\n",
    "\n",
    "print(\"Minimum Age:\", minimum_age)\n",
    "print(\"Average Age:\", average_age)\n",
    "print(\"Maximum Age:\", maximum_age)"
   ]
  },
  {
   "cell_type": "markdown",
   "metadata": {},
   "source": [
    "## Question 1.3: \n",
    "How many mothers smoked during pregnancy?\n"
   ]
  },
  {
   "cell_type": "code",
   "execution_count": 251,
   "metadata": {},
   "outputs": [
    {
     "name": "stdout",
     "output_type": "stream",
     "text": [
      "74 mothers smoked during pregnancy. \n"
     ]
    }
   ],
   "source": [
    "mothers_smoked = data[:, 4]\n",
    "\n",
    "num_smoked = int(np.sum(mothers_smoked))\n",
    "\n",
    "print(num_smoked, \"mothers smoked during pregnancy. \")"
   ]
  },
  {
   "cell_type": "markdown",
   "metadata": {},
   "source": [
    "## Question 1.4: \n",
    "How many mothers had a history of hypertension?\n"
   ]
  },
  {
   "cell_type": "code",
   "execution_count": 254,
   "metadata": {},
   "outputs": [
    {
     "name": "stdout",
     "output_type": "stream",
     "text": [
      "12 mothers had a history of hypertension. \n"
     ]
    }
   ],
   "source": [
    "mothers_hypertension = data[:, 6]\n",
    "\n",
    "num_hypertension = int(np.sum(mothers_hypertension))\n",
    "\n",
    "print(num_hypertension, \"mothers had a history of hypertension. \")"
   ]
  },
  {
   "cell_type": "markdown",
   "metadata": {},
   "source": [
    "## Question 1.5: \n",
    "How many mothers have 1 or more premature births?\n"
   ]
  },
  {
   "cell_type": "code",
   "execution_count": 257,
   "metadata": {},
   "outputs": [
    {
     "name": "stdout",
     "output_type": "stream",
     "text": [
      "30 mothers had 1 or more premature births. \n"
     ]
    }
   ],
   "source": [
    "mothers_premature_birth = data[:, 5]\n",
    "\n",
    "num_premature_birth = int(np.sum(mothers_premature_birth >= 1))\n",
    "\n",
    "print(num_premature_birth, \"mothers had 1 or more premature births. \")"
   ]
  },
  {
   "cell_type": "markdown",
   "metadata": {},
   "source": [
    "## Question 1.6: \n",
    "Create a function called convert_birthweight() that:\n",
    "takes grams as input,\n",
    "converts grams to the equivalent pounds and ounces\n",
    "example format: X grams = Y lbs Z oz; note: X, Y and Z are placeholders for numeric values.\n",
    "return the converted value.\n",
    "Use the convert_birthweight() function to convert the birth weight to pounds and ounces in the questions 7-11 below.\n"
   ]
  },
  {
   "cell_type": "code",
   "execution_count": 260,
   "metadata": {},
   "outputs": [],
   "source": [
    "OUNCES_PER_LB = 453.592\n",
    "OUNCES_PER_GRAM = 28.3495\n",
    "\n",
    "def convert_birthweight(grams): \n",
    "    lbs = int(grams // OUNCES_PER_LB)\n",
    "    ounces = round((grams % OUNCES_PER_LB) / OUNCES_PER_GRAM, 2)\n",
    "    return str(lbs) + \" lbs \" + str(ounces) + \" ounces\""
   ]
  },
  {
   "cell_type": "markdown",
   "metadata": {},
   "source": [
    "## Question 1.7: \n",
    "What is the average birth weight of babies whose mothers have a history of premature birth? "
   ]
  },
  {
   "cell_type": "code",
   "execution_count": 263,
   "metadata": {},
   "outputs": [
    {
     "name": "stdout",
     "output_type": "stream",
     "text": [
      "The average birth weight of babies whose mothers have a history of premature birth is 5 lbs 10.99 ounces\n"
     ]
    }
   ],
   "source": [
    "birth_weight = data[:, 9]\n",
    "\n",
    "avg_premature_weight = np.mean(birth_weight[mothers_premature_birth >= 1])\n",
    "converted_weight = convert_birthweight(avg_premature_weight)\n",
    "\n",
    "print(\"The average birth weight of babies whose mothers have a history of premature birth is\", converted_weight)"
   ]
  },
  {
   "cell_type": "markdown",
   "metadata": {},
   "source": [
    "## Question 1.8: \n",
    "What is the minimum, average and maximum birth weight of babies whose mother did not smoke during pregnancy and do not have a history of hypertension?"
   ]
  },
  {
   "cell_type": "code",
   "execution_count": 266,
   "metadata": {},
   "outputs": [
    {
     "name": "stdout",
     "output_type": "stream",
     "text": [
      "Minimum Birth Weight 2 lbs 4.01 ounces\n",
      "Average Birth Weight 6 lbs 13.01 ounces\n",
      "Maximum Birth Weight 11 lbs 0.02 ounces\n"
     ]
    }
   ],
   "source": [
    "weight_mother_no_smoke_ht = birth_weight[(data[:, 4] == 0) & (data[:, 6] == 0)]\n",
    "\n",
    "minimum_weight = np.min(weight_mother_no_smoke_ht)\n",
    "average_weight = np.mean(weight_mother_no_smoke_ht)\n",
    "maximum_weight = np.max(weight_mother_no_smoke_ht)\n",
    "\n",
    "converted_min = convert_birthweight(minimum_weight)\n",
    "converted_average = convert_birthweight(average_weight)\n",
    "converted_max = convert_birthweight(maximum_weight)\n",
    "\n",
    "print(\"Minimum Birth Weight\", converted_min)\n",
    "print(\"Average Birth Weight\", converted_average)\n",
    "print(\"Maximum Birth Weight\", converted_max)"
   ]
  },
  {
   "cell_type": "markdown",
   "metadata": {},
   "source": [
    "## Question 1.9: \n",
    "What is the minimum, average and maximum birth weight of babies whose mothers smoked during pregnancy?"
   ]
  },
  {
   "cell_type": "code",
   "execution_count": 269,
   "metadata": {},
   "outputs": [
    {
     "name": "stdout",
     "output_type": "stream",
     "text": [
      "Minimum Birth Weight 1 lbs 9.01 ounces\n",
      "Average Birth Weight 6 lbs 1.78 ounces\n",
      "Maximum Birth Weight 9 lbs 5.49 ounces\n"
     ]
    }
   ],
   "source": [
    "weight_mother_smoke = birth_weight[(data[:, 4] == 1)]\n",
    "\n",
    "minimum_weight = np.min(weight_mother_smoke)\n",
    "average_weight = np.mean(weight_mother_smoke)\n",
    "maximum_weight = np.max(weight_mother_smoke)\n",
    "\n",
    "converted_min = convert_birthweight(minimum_weight)\n",
    "converted_average = convert_birthweight(average_weight)\n",
    "converted_max = convert_birthweight(maximum_weight)\n",
    "\n",
    "print(\"Minimum Birth Weight\", converted_min)\n",
    "print(\"Average Birth Weight\", converted_average)\n",
    "print(\"Maximum Birth Weight\", converted_max)"
   ]
  },
  {
   "cell_type": "markdown",
   "metadata": {},
   "source": [
    "## Question 1.10: \n",
    "What is the minimum, average and maximum birth weight of babies whose mothers had a history of hypertension? "
   ]
  },
  {
   "cell_type": "code",
   "execution_count": 272,
   "metadata": {},
   "outputs": [
    {
     "name": "stdout",
     "output_type": "stream",
     "text": [
      "Minimum Birth Weight 2 lbs 8.04 ounces\n",
      "Average Birth Weight 5 lbs 9.48 ounces\n",
      "Maximum Birth Weight 8 lbs 5.69 ounces\n"
     ]
    }
   ],
   "source": [
    "weight_mother_hypertension = birth_weight[(data[:, 6] == 1)]\n",
    "\n",
    "minimum_weight = np.min(weight_mother_hypertension)\n",
    "average_weight = np.mean(weight_mother_hypertension)\n",
    "maximum_weight = np.max(weight_mother_hypertension)\n",
    "\n",
    "converted_min = convert_birthweight(minimum_weight)\n",
    "converted_average = convert_birthweight(average_weight)\n",
    "converted_max = convert_birthweight(maximum_weight)\n",
    "\n",
    "print(\"Minimum Birth Weight\", converted_min)\n",
    "print(\"Average Birth Weight\", converted_average)\n",
    "print(\"Maximum Birth Weight\", converted_max)"
   ]
  },
  {
   "cell_type": "markdown",
   "metadata": {},
   "source": [
    "## Question 1.11: \n",
    "What is the minimum, average and maximum birth weight of babies whose mothers smoked during pregnancy and had a history of hypertension? "
   ]
  },
  {
   "cell_type": "code",
   "execution_count": 275,
   "metadata": {},
   "outputs": [
    {
     "name": "stdout",
     "output_type": "stream",
     "text": [
      "Minimum Birth Weight 2 lbs 8.04 ounces\n",
      "Average Birth Weight 5 lbs 10.34 ounces\n",
      "Maximum Birth Weight 8 lbs 4.49 ounces\n"
     ]
    }
   ],
   "source": [
    "weight_mother_smoke_ht = birth_weight[(data[:, 4] == 1) & (data[:, 6] == 1)]\n",
    "\n",
    "minimum_weight = np.min(weight_mother_smoke_ht)\n",
    "average_weight = np.mean(weight_mother_smoke_ht)\n",
    "maximum_weight = np.max(weight_mother_smoke_ht)\n",
    "\n",
    "converted_min = convert_birthweight(minimum_weight)\n",
    "converted_average = convert_birthweight(average_weight)\n",
    "converted_max = convert_birthweight(maximum_weight)\n",
    "\n",
    "print(\"Minimum Birth Weight\", converted_min)\n",
    "print(\"Average Birth Weight\", converted_average)\n",
    "print(\"Maximum Birth Weight\", converted_max)"
   ]
  },
  {
   "cell_type": "markdown",
   "metadata": {},
   "source": [
    "## Question 1.12: \n",
    "Compare and contrast the results from 7-11 above and summarize your findings.\n",
    "Do you see any patterns in the birth weight of babies whose mother did not have any history of hypertension and/or did not smoke during pregnancy versus those who did? Ensure that you reference specific birth weights to support your explanation."
   ]
  },
  {
   "cell_type": "markdown",
   "metadata": {},
   "source": [
    "One pattern that I found was that all the babies weighed roughly the same except for when the mother did not smoke or have hypertension. (5 lbs 10.34 ounces, 5 lbs 9.48 ounces, 6 lbs 1.78 ounces) vs 6 lbs 13.01 ounces. \n",
    "\n",
    "Another pattern that I saw was that babies whose mothers smoked/had hypertension had either a lower min birth weight or lower max birth weight. For example, no smoking and no hypertension babies were 2 lbs 4.01 ounces minimum. Mothers who smoked had a minimum of 1 lbs 9.01 ounces. For maximum, no smoking and no hypertension max was 9 lbs 5.49 ounces. Mothers who smoked/had hypertension or both had weights of 8 lbs 4.49 ounces, 8 lbs 5.69 ounces, and 8 lbs 5.69 ounces. \n",
    "\n",
    "Therefore, based on my observations, babies who come from mothers who did not smoke or have hypertension weighted more, which is based on my first point which highlights this. In addition, the second point shows that the minimums and maximums are lower when mothers smoke/have hypertension. "
   ]
  },
  {
   "cell_type": "markdown",
   "metadata": {},
   "source": [
    "## Helpful resources \n",
    "Don't forget to cite websites which helped you solve a problem in a unique way.  You can do this in markdown near the code or with a simple one-line comment inside the code cell, or you can list them below. \n",
    "\n",
    "You do not need to cite the official python documentation.\n"
   ]
  },
  {
   "cell_type": "markdown",
   "metadata": {},
   "source": [
    "https://stackoverflow.com/questions/20457038/how-to-round-to-2-decimals-with-python\n",
    "//used to round all numeric calculations (i.e. floats) to 2 decimal places"
   ]
  },
  {
   "cell_type": "code",
   "execution_count": null,
   "metadata": {},
   "outputs": [],
   "source": []
  }
 ],
 "metadata": {
  "kernelspec": {
   "display_name": "Python [conda env:base] *",
   "language": "python",
   "name": "conda-base-py"
  },
  "language_info": {
   "codemirror_mode": {
    "name": "ipython",
    "version": 3
   },
   "file_extension": ".py",
   "mimetype": "text/x-python",
   "name": "python",
   "nbconvert_exporter": "python",
   "pygments_lexer": "ipython3",
   "version": "3.12.7"
  }
 },
 "nbformat": 4,
 "nbformat_minor": 4
}
